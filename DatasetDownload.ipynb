{
  "nbformat": 4,
  "nbformat_minor": 0,
  "metadata": {
    "colab": {
      "provenance": []
    },
    "kernelspec": {
      "name": "python3",
      "display_name": "Python 3"
    },
    "accelerator": "TPU"
  },
  "cells": [
    {
      "cell_type": "code",
      "metadata": {
        "id": "smXBb44pwC2q",
        "outputId": "85a1afad-2e46-42f6-e436-e496c06c888c",
        "colab": {
          "base_uri": "https://localhost:8080/"
        }
      },
      "source": [
        "import re\n",
        "import requests\n",
        "from bs4 import BeautifulSoup\n",
        "from google.colab import drive\n",
        "drive.mount('/content/gdrive')\n",
        "\n",
        "URL = 'https://sites.google.com/up.edu.mx/har-up/'\n",
        "r = requests.get(URL)\n",
        "soup = BeautifulSoup(r.content,  'lxml')\n",
        "string = soup.prettify(formatter=\"minimal\")\n",
        "# regex = r'''div id=&quot;(Subject\\d+Activity\\d+Trial\\d)&lt;/h5&gt;\n",
        "# &lt;p&gt;\n",
        "#     &lt;a href=&quot;((?!&quot;&)[\\s\\S]+)&quot;&gt;Camera1'''\n",
        "regex = '&lt;h5&gt;(Subject\\d+Activity\\d+Trial\\d)[\\s\\S]{718}([\\s\\S]{76})[\\s\\S]{70}([\\s\\S]{76})'\n",
        "match = re.findall(regex, string)\n",
        "print(len(match), 'matches found')\n",
        "print('Example match:')\n",
        "print(match[0])"
      ],
      "execution_count": null,
      "outputs": [
        {
          "output_type": "stream",
          "name": "stdout",
          "text": [
            "561 matches found\n",
            "('Subject1Activity1Trial1', 'https://drive.google.com/a/up.edu.mx/uc?id=1x-gpsGcP1jMAvWAZ9oM1O7MsGW8VaCma', 'https://drive.google.com/a/up.edu.mx/uc?id=1Lh9EMMbDu1Z8yooJVXc4FeAHrOFuR2NL')\n",
            "('Subject1Activity1Trial2', 'https://drive.google.com/a/up.edu.mx/uc?id=1x8CipMrTCQl_Hy5HJpIO7TtmqYg4GC2K', 'https://drive.google.com/a/up.edu.mx/uc?id=1KnQGzijQbd90cv1s9XA4WEjI6cA_VDpq')\n"
          ]
        }
      ]
    },
    {
      "cell_type": "code",
      "metadata": {
        "id": "yxHBNzWGaAcK"
      },
      "source": [],
      "execution_count": null,
      "outputs": []
    },
    {
      "cell_type": "code",
      "metadata": {
        "id": "UM8qfLuSD1d-",
        "colab": {
          "base_uri": "https://localhost:8080/"
        },
        "outputId": "4ca426ad-3405-4642-8cc7-2f7e91382382"
      },
      "source": [
        "! pip install -U --no-cache-dir gdown --pre"
      ],
      "execution_count": null,
      "outputs": [
        {
          "output_type": "stream",
          "name": "stdout",
          "text": [
            "Looking in indexes: https://pypi.org/simple, https://us-python.pkg.dev/colab-wheels/public/simple/\n",
            "Requirement already satisfied: gdown in /usr/local/lib/python3.7/dist-packages (4.4.0)\n",
            "Collecting gdown\n",
            "  Downloading gdown-4.5.1.tar.gz (14 kB)\n",
            "  Installing build dependencies ... \u001b[?25l\u001b[?25hdone\n",
            "  Getting requirements to build wheel ... \u001b[?25l\u001b[?25hdone\n",
            "    Preparing wheel metadata ... \u001b[?25l\u001b[?25hdone\n",
            "Requirement already satisfied: filelock in /usr/local/lib/python3.7/dist-packages (from gdown) (3.8.0)\n",
            "Requirement already satisfied: tqdm in /usr/local/lib/python3.7/dist-packages (from gdown) (4.64.0)\n",
            "Requirement already satisfied: six in /usr/local/lib/python3.7/dist-packages (from gdown) (1.15.0)\n",
            "Requirement already satisfied: beautifulsoup4 in /usr/local/lib/python3.7/dist-packages (from gdown) (4.6.3)\n",
            "Requirement already satisfied: requests[socks] in /usr/local/lib/python3.7/dist-packages (from gdown) (2.23.0)\n",
            "Requirement already satisfied: idna<3,>=2.5 in /usr/local/lib/python3.7/dist-packages (from requests[socks]->gdown) (2.10)\n",
            "Requirement already satisfied: urllib3!=1.25.0,!=1.25.1,<1.26,>=1.21.1 in /usr/local/lib/python3.7/dist-packages (from requests[socks]->gdown) (1.24.3)\n",
            "Requirement already satisfied: certifi>=2017.4.17 in /usr/local/lib/python3.7/dist-packages (from requests[socks]->gdown) (2022.6.15)\n",
            "Requirement already satisfied: chardet<4,>=3.0.2 in /usr/local/lib/python3.7/dist-packages (from requests[socks]->gdown) (3.0.4)\n",
            "Requirement already satisfied: PySocks!=1.5.7,>=1.5.6 in /usr/local/lib/python3.7/dist-packages (from requests[socks]->gdown) (1.7.1)\n",
            "Building wheels for collected packages: gdown\n",
            "  Building wheel for gdown (PEP 517) ... \u001b[?25l\u001b[?25hdone\n",
            "  Created wheel for gdown: filename=gdown-4.5.1-py3-none-any.whl size=14951 sha256=cb041690e3b8d52f4df0457c67a5edc1af9ae668d894ec4a9b91f659914f1ae9\n",
            "  Stored in directory: /tmp/pip-ephem-wheel-cache-7uwtdl1x/wheels/3d/ec/b0/a96d1d126183f98570a785e6bf8789fca559853a9260e928e1\n",
            "Successfully built gdown\n",
            "Installing collected packages: gdown\n",
            "  Attempting uninstall: gdown\n",
            "    Found existing installation: gdown 4.4.0\n",
            "    Uninstalling gdown-4.4.0:\n",
            "      Successfully uninstalled gdown-4.4.0\n",
            "Successfully installed gdown-4.5.1\n"
          ]
        }
      ]
    },
    {
      "cell_type": "code",
      "metadata": {
        "id": "I39EMCfZFLb-"
      },
      "source": [
        "# from pydrive.drive import GoogleDrive\n",
        "import shutil\n",
        "import gdown\n",
        "import zipfile\n",
        "import os\n",
        "\n",
        "down = '/content/downloads/'\n",
        "if not os.path.exists(down):\n",
        "     os.makedirs(down, 0o700)\n",
        "\n",
        "# you may have to download in batches since google drive can freeze downloads after a certain number of downloads\n",
        "for case in match:\n",
        "  name = down+case[0]\n",
        "  for i in range(1,3):\n",
        "    dir_name = name+f'{i}'\n",
        "    gdown.download(case[i], dir_name+'.zip', quiet=False)\n",
        "    zipf = dir_name + '.zip'\n",
        "    n = case[i] + '&export=donwload'\n",
        "    # ! gdown --no-cookies $n -O $zipf\n",
        "    # download_file_from_google_drive((case[i].split('id='))[1], dir_name+'.zip')\n",
        "    with zipfile.ZipFile(dir_name+'.zip', 'r') as zip_ref:\n",
        "      os.mkdir(dir_name)\n",
        "      zip_ref.extractall(dir_name)\n",
        "    out = down+case[0]+f'Cam{i}'\n",
        "    # generate video at 18 fps (-r 18) using ffmpeg\n",
        "    ! ffmpeg -pattern_type glob -i '{dir_name}/*.png' -r 18 $out\\.mp4\n",
        "    # shutil.rmtree(dir_name)\n",
        "    # os.remove(dir_name+'.zip')\n"
      ],
      "execution_count": null,
      "outputs": []
    },
    {
      "cell_type": "code",
      "source": [
        "# files saved as /content/downloads/Subject1Activity1Trial2Cam1.mp4"
      ],
      "metadata": {
        "id": "_qubtvPdnnOQ"
      },
      "execution_count": null,
      "outputs": []
    }
  ]
}